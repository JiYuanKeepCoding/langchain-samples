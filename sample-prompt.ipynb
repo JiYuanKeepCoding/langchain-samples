{
 "cells": [
  {
   "cell_type": "code",
   "execution_count": null,
   "metadata": {},
   "outputs": [],
   "source": [
    "from langchain.chat_models import ChatOpenAI\n",
    "\n",
    "deployment = \"gpt-3.5-turbo\"\n",
    "llm = ChatOpenAI(model_name=deployment, temperature=0, openai_api_key=\"xxxx\")"
   ]
  },
  {
   "cell_type": "code",
   "execution_count": 3,
   "metadata": {},
   "outputs": [
    {
     "data": {
      "text/plain": [
       "'Y, N'"
      ]
     },
     "execution_count": 3,
     "metadata": {},
     "output_type": "execute_result"
    }
   ],
   "source": [
    "import os\n",
    "from langchain.chat_models import ChatOpenAI\n",
    "from langchain import PromptTemplate, LLMChain\n",
    "\n",
    "\n",
    "prompt_template = \"\"\"\n",
    "    You are an assistant. \n",
    "    Please, analyze the user reviews according to the following instruction: \n",
    "    If the review is postive, you should output 'Y', otherwise output 'N'\n",
    "    ---\n",
    "    {review}\n",
    "    \"\"\"\n",
    "\n",
    "llm = ChatOpenAI(model_name=deployment, temperature=0, openai_api_key=\"xxxxx\")\n",
    "llm_chain = LLMChain(\n",
    "    llm=llm,\n",
    "    prompt=PromptTemplate.from_template(prompt_template)\n",
    ")\n",
    "llm_chain.run([\n",
    "    {\"review\": \"Customer service is very considerate\"},\n",
    "    {\"review\": \"Customer service ignore my requirement\"}\n",
    "])"
   ]
  }
 ],
 "metadata": {
  "kernelspec": {
   "display_name": "Python 3",
   "language": "python",
   "name": "python3"
  },
  "language_info": {
   "codemirror_mode": {
    "name": "ipython",
    "version": 3
   },
   "file_extension": ".py",
   "mimetype": "text/x-python",
   "name": "python",
   "nbconvert_exporter": "python",
   "pygments_lexer": "ipython3",
   "version": "3.11.6"
  }
 },
 "nbformat": 4,
 "nbformat_minor": 2
}
