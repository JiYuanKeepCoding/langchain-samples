{
 "cells": [
  {
   "cell_type": "code",
   "execution_count": 1,
   "metadata": {},
   "outputs": [],
   "source": [
    "def get_current_cluster_state(cluster_name):\n",
    "    return  \"\"\"ERROR: Failed to pull image \"chaocai/docker/dsp:latest\"\"\"\n"
   ]
  },
  {
   "cell_type": "code",
   "execution_count": null,
   "metadata": {},
   "outputs": [],
   "source": [
    "from langchain.chat_models import ChatOpenAI\n",
    "\n",
    "deployment = \"gpt-3.5-turbo\"\n",
    "llm = ChatOpenAI(model_name=deployment, temperature=0, openai_api_key=\"xxxxxxxxxxxxxxx\")"
   ]
  },
  {
   "cell_type": "code",
   "execution_count": 4,
   "metadata": {},
   "outputs": [
    {
     "name": "stdout",
     "output_type": "stream",
     "text": [
      "\n",
      "\n",
      "\u001b[1m> Entering new PlanAndExecute chain...\u001b[0m\n",
      "steps=[Step(value=\"Check if the service named 'DSP' is running.\"), Step(value='If the service is not running, start the service.'), Step(value='If the service is running, check the service logs for any error messages or warnings.'), Step(value='If there are error messages or warnings in the logs, analyze the messages to identify the root cause of the issue.'), Step(value='Based on the root cause, provide appropriate suggestions to fix the issue.'), Step(value='If there are no error messages or warnings in the logs, check the service configuration files for any misconfigurations.'), Step(value='If there are misconfigurations, correct them and restart the service.'), Step(value='If there are no misconfigurations, check the system resources (CPU, memory, disk space) to ensure they are sufficient for the service to run properly.'), Step(value='If the system resources are insufficient, allocate more resources or optimize the service configuration.'), Step(value=\"Given the above steps taken, respond to the user's original question by providing suggestions to fix the issue with the 'DSP' service.\\n\\n\")]\n",
      "\n",
      "\u001b[1m> Entering new AgentExecutor chain...\u001b[0m\n",
      "\u001b[32;1m\u001b[1;3mAction:\n",
      "```\n",
      "{\n",
      "  \"action\": \"Get current cluster state\",\n",
      "  \"action_input\": \"DSP\"\n",
      "}\n",
      "```\u001b[0m\n",
      "Observation: \u001b[36;1m\u001b[1;3mERROR: Failed to pull image \"chaocai/docker/dsp:latest\u001b[0m\n",
      "Thought:\u001b[32;1m\u001b[1;3mThe previous action to get the current cluster state for the 'DSP' service failed because it encountered an error while trying to pull the image \"chaocai/docker/dsp:latest\". \n",
      "\n",
      "To troubleshoot this issue, we can try the following steps:\n",
      "\n",
      "1. Verify that the image \"chaocai/docker/dsp:latest\" exists and is accessible.\n",
      "2. Check the network connectivity of the cluster to ensure it can reach the image repository.\n",
      "3. Ensure that the necessary credentials or authentication tokens are provided to access the image repository.\n",
      "\n",
      "Please let me know if you need further assistance or if there's anything else I can help with.\u001b[0m\n",
      "\n",
      "\u001b[1m> Finished chain.\u001b[0m\n",
      "*****\n"
     ]
    }
   ],
   "source": [
    "from langchain.agents import Tool\n",
    "from langchain_experimental.plan_and_execute import PlanAndExecute, load_agent_executor, load_chat_planner\n",
    "\n",
    "\n",
    "tools = [\n",
    "    Tool(\n",
    "        name=\"Get current cluster state\", func=get_current_cluster_state,\n",
    "        description=\"\"\"invoke it for when you need to get the current state in a given service cluster, \n",
    "        And the input of the function is only one parameter, the service name, for example, to get the state of ADX service, \n",
    "        the input for invoking the function is \"ADX\"         \n",
    "        \"\"\")\n",
    "]\n",
    "\n",
    "planner = load_chat_planner(llm)\n",
    "executor = load_agent_executor(llm, tools, verbose=True)\n",
    "agent = PlanAndExecute(planner=planner, executor=executor, verbose=True)\n",
    "\n",
    "agent.run(\"Check the service named 'DSP', if there's something wrong with the service, give me some suggestions to fix it.\")\n"
   ]
  }
 ],
 "metadata": {
  "kernelspec": {
   "display_name": "Python 3",
   "language": "python",
   "name": "python3"
  },
  "language_info": {
   "codemirror_mode": {
    "name": "ipython",
    "version": 3
   },
   "file_extension": ".py",
   "mimetype": "text/x-python",
   "name": "python",
   "nbconvert_exporter": "python",
   "pygments_lexer": "ipython3",
   "version": "3.11.6"
  }
 },
 "nbformat": 4,
 "nbformat_minor": 2
}
